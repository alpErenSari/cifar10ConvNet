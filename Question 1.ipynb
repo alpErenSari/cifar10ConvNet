{
 "cells": [
  {
   "cell_type": "markdown",
   "metadata": {},
   "source": [
    "# 1. Backpropagation (pen&paper) (5 - 5 - 10 pts)\n",
    "\n",
    "### For each graph, use given integer inputs for x,y,z,w,i,b values and compute node outputs with forward pass from inputs to outputs. Then compute backward pass to perform backpropagation to calculate gradients. Write inputs and outputs for each node. You don’t need to implement any algorithm or code, you can write the values on the printed graph. You don't need to calculate exact numbers."
   ]
  },
  {
   "cell_type": "markdown",
   "metadata": {},
   "source": [
    "#### Write a seed number in the cell below to generate necessary inputs"
   ]
  },
  {
   "cell_type": "code",
   "execution_count": 1,
   "metadata": {},
   "outputs": [],
   "source": [
    "Random_Seed = 2031276 #WRITE RANDOM SEED HERE"
   ]
  },
  {
   "cell_type": "code",
   "execution_count": 2,
   "metadata": {},
   "outputs": [],
   "source": [
    "import numpy as np"
   ]
  },
  {
   "cell_type": "code",
   "execution_count": 3,
   "metadata": {},
   "outputs": [],
   "source": [
    "np.random.seed(Random_Seed)"
   ]
  },
  {
   "cell_type": "code",
   "execution_count": 4,
   "metadata": {},
   "outputs": [
    {
     "name": "stdout",
     "output_type": "stream",
     "text": [
      "SOLVE THE FOLLOWING GRAPH FOR x=-7 y=-8 z=6\n"
     ]
    }
   ],
   "source": [
    "x,y,z = np.random.randint(-10,+11,3)\n",
    "print(\"SOLVE THE FOLLOWING GRAPH FOR x=%d y=%d z=%d\"%(x,y,z))"
   ]
  },
  {
   "cell_type": "markdown",
   "metadata": {},
   "source": [
    "<img src=\"1a.png\">"
   ]
  },
  {
   "cell_type": "code",
   "execution_count": 5,
   "metadata": {},
   "outputs": [
    {
     "name": "stdout",
     "output_type": "stream",
     "text": [
      "SOLVE THE FOLLOWING GRAPH FOR x=2 y=2 z=3 w=-1\n"
     ]
    }
   ],
   "source": [
    "x,y,z,w = np.random.randint(-10,+11,4)\n",
    "print(\"SOLVE THE FOLLOWING GRAPH FOR x=%d y=%d z=%d w=%d\"%(x,y,z,w))"
   ]
  },
  {
   "cell_type": "markdown",
   "metadata": {},
   "source": [
    "<img src=\"1b.png\">"
   ]
  },
  {
   "cell_type": "code",
   "execution_count": 6,
   "metadata": {},
   "outputs": [
    {
     "name": "stdout",
     "output_type": "stream",
     "text": [
      "SOLVE THE FOLLOWING GRAPH FOR i0=6 w0=-9 b0=3 i1=6 w1=2 b1=0\n"
     ]
    }
   ],
   "source": [
    "i0,w0,b0,i1,w1,b1 = np.random.randint(-10,+11,6)\n",
    "print(\"SOLVE THE FOLLOWING GRAPH FOR i0=%d w0=%d b0=%d i1=%d w1=%d b1=%d\"%(i0,w0,b0,i1,w1,b1))"
   ]
  },
  {
   "cell_type": "markdown",
   "metadata": {},
   "source": [
    "<img src=\"1c.png\">"
   ]
  }
 ],
 "metadata": {
  "kernelspec": {
   "display_name": "Python 3",
   "language": "python",
   "name": "python3"
  },
  "language_info": {
   "codemirror_mode": {
    "name": "ipython",
    "version": 3
   },
   "file_extension": ".py",
   "mimetype": "text/x-python",
   "name": "python",
   "nbconvert_exporter": "python",
   "pygments_lexer": "ipython3",
   "version": "3.6.8"
  }
 },
 "nbformat": 4,
 "nbformat_minor": 2
}
