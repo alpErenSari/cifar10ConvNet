{
 "cells": [
  {
   "cell_type": "markdown",
   "metadata": {},
   "source": [
    "# 2. Convolution and Pooling (10 - 10 pts)"
   ]
  },
  {
   "cell_type": "markdown",
   "metadata": {},
   "source": [
    "### a) Write a function for convolution operation in the cell below. Write your own code with your own algorithm. It should have necessary error checks for matrix dimensions (consider multichannel matrices). Inputs must have the same structure as Tensorflow convolution operation and also the results must be same. Check [tf.nn.convolution](https://www.tensorflow.org/api_docs/python/tf/nn/convolution)"
   ]
  },
  {
   "cell_type": "code",
   "execution_count": 2,
   "metadata": {},
   "outputs": [],
   "source": [
    "import tensorflow as tf\n",
    "import numpy as np"
   ]
  },
  {
   "cell_type": "code",
   "execution_count": 54,
   "metadata": {},
   "outputs": [],
   "source": [
    "def my_convolution(my_input, my_filter, my_padding, my_strides):\n",
    "    # WRITE YOUR OWN CONVOLUTION IMPLEMENTATION HERE\n",
    "    if(my_padding is \"VALID\"):\n",
    "        conv_input = my_input\n",
    "        my_output = np.zeros((conv_input.shape[0], conv_input.shape[1] - int(my_filter.shape[0] - 1), \n",
    "                            conv_input.shape[2] - int(my_filter.shape[1] - 1), my_filter.shape[3]))\n",
    "        for batch in range(conv_input.shape[0]):\n",
    "            for channel in range(my_filter.shape[3]):\n",
    "                for i in range(my_output.shape[1]):\n",
    "                    for j in range(my_output.shape[2]):\n",
    "                        my_output[batch, i, j, channel] = np.sum(conv_input[batch, i:i+my_filter.shape[0], \n",
    "                                                                     j:j+my_filter.shape[1], :]*my_filter[:,:,:,channel])\n",
    "            \n",
    "    elif(my_padding is \"SAME\"):\n",
    "        pad_1, pad_2 = int(my_filter.shape[0]/2), int(my_filter.shape[1]/2)\n",
    "        conv_input = np.zeros((my_input.shape[0], my_input.shape[1] + 2*pad_1, \n",
    "                               my_input.shape[2] + 2*pad_2, my_input.shape[3]))\n",
    "        conv_input[:,pad_1:-pad_1, pad_2:-pad_2, :] = my_input\n",
    "        my_output = np.zeros((conv_input.shape[0], conv_input.shape[1] - int(my_filter.shape[0]/2 + 1), \n",
    "                            conv_input.shape[2] - int(my_filter.shape[1]/2 + 1), my_filter.shape[3]))\n",
    "        for batch in range(my_input.shape[0]):\n",
    "            for channel in range(my_filter.shape[3]):\n",
    "                for i in range(my_output.shape[1]):\n",
    "                    for j in range(my_output.shape[2]):\n",
    "                        my_output[batch, i, j, channel] = np.sum(conv_input[batch, pad_1+i:pad_1+i+my_filter.shape[0], \n",
    "                                                                     pad_2+j:pad_2+j+my_filter.shape[1], :]*my_filter[:,:,:,channel])\n",
    "        \n",
    "    \n",
    "    return my_output"
   ]
  },
  {
   "cell_type": "code",
   "execution_count": 55,
   "metadata": {},
   "outputs": [],
   "source": [
    "def tf_convolution(tf_input, tf_filter, tf_padding, tf_strides):\n",
    "    \n",
    "    sess = tf.Session()\n",
    "    tf_function = tf.nn.convolution(input=tf_input, filter=tf_filter, padding=tf_padding, strides=tf_strides)\n",
    "    tf_output = sess.run(tf_function)\n",
    "    sess.close()\n",
    "    \n",
    "    return tf_output"
   ]
  },
  {
   "cell_type": "code",
   "execution_count": 56,
   "metadata": {},
   "outputs": [
    {
     "name": "stdout",
     "output_type": "stream",
     "text": [
      "input:\n",
      "[[[[0.8849542 ]\n",
      "   [0.80155565]\n",
      "   [0.53770348]\n",
      "   [0.49037045]]\n",
      "\n",
      "  [[0.19978963]\n",
      "   [0.3222855 ]\n",
      "   [0.20571725]\n",
      "   [0.29153332]]\n",
      "\n",
      "  [[0.05587875]\n",
      "   [0.88019014]\n",
      "   [0.08306128]\n",
      "   [0.57875444]]\n",
      "\n",
      "  [[0.53963681]\n",
      "   [0.30117825]\n",
      "   [0.44686997]\n",
      "   [0.84025394]]]]\n",
      "filter:\n",
      "[[[[0.31608263]]\n",
      "\n",
      "  [[0.19951109]]]\n",
      "\n",
      "\n",
      " [[[0.83815882]]\n",
      "\n",
      "  [[0.51743322]]]]\n",
      "output:\n",
      "[[[[0.77385456]\n",
      "   [0.737207  ]\n",
      "   [0.59106582]\n",
      "   [0.39934881]]\n",
      "\n",
      "  [[0.62972445]\n",
      "   [0.92362952]\n",
      "   [0.4922731 ]\n",
      "   [0.57723676]]\n",
      "\n",
      "  [[0.80141098]\n",
      "   [0.77844504]\n",
      "   [0.95104546]\n",
      "   [0.88720048]]\n",
      "\n",
      "  [[0.23065822]\n",
      "   [0.18435273]\n",
      "   [0.30888782]\n",
      "   [0.26558968]]]]\n",
      "my output:\n",
      "[[[[0.77385456]\n",
      "   [0.737207  ]\n",
      "   [0.59106582]\n",
      "   [0.39934881]]\n",
      "\n",
      "  [[0.62972445]\n",
      "   [0.92362952]\n",
      "   [0.4922731 ]\n",
      "   [0.57723676]]\n",
      "\n",
      "  [[0.80141098]\n",
      "   [0.77844504]\n",
      "   [0.95104546]\n",
      "   [0.88720048]]\n",
      "\n",
      "  [[0.23065822]\n",
      "   [0.18435273]\n",
      "   [0.30888782]\n",
      "   [0.26558968]]]]\n"
     ]
    }
   ],
   "source": [
    "sample_input = np.random.random([1,4,4,1])\n",
    "sample_filter = np.random.random([2,2,1,1])\n",
    "sample_padding = \"SAME\"\n",
    "sample_strides = [1,1]\n",
    "\n",
    "tf_output = tf_convolution(sample_input,sample_filter,sample_padding,sample_strides)\n",
    "my_output = my_convolution(sample_input,sample_filter,sample_padding,sample_strides)\n",
    "\n",
    "print(\"input:\")\n",
    "print(sample_input)\n",
    "print(\"filter:\")\n",
    "print(sample_filter)\n",
    "print(\"output:\")\n",
    "print(tf_output)\n",
    "print(\"my output:\")\n",
    "print(my_output)"
   ]
  },
  {
   "cell_type": "markdown",
   "metadata": {},
   "source": [
    "### b) Write a function for pooling operation in the cell below. Write your own code with your own algorithm. It should have necessary error checks for matrix dimensions (consider multichannel matrices). Inputs must have the same structure as Tensorflow pooling operation and also the results must be same. Check [tf.nn.pool](https://www.tensorflow.org/api_docs/python/tf/nn/pool)"
   ]
  },
  {
   "cell_type": "code",
   "execution_count": 70,
   "metadata": {},
   "outputs": [],
   "source": [
    "def my_pooling(my_input, my_window_shape, my_pooling_type, my_padding, my_strides):\n",
    "    # WRITE YOUR OWN POOLING IMPLEMENTATION HERE\n",
    "    my_output = np.zeros((my_input.shape[0], \n",
    "                           int((my_input.shape[1] - my_window_shape[0])/my_strides[0] + 1),\n",
    "                           int((my_input.shape[2] - my_window_shape[1])/my_strides[1] + 1),\n",
    "                           my_input.shape[3]))\n",
    "     \n",
    "    for batch in range(my_input.shape[0]):\n",
    "        for channel in range(my_filter.shape[3]):\n",
    "            for i in range(my_output.shape[1]):\n",
    "                for j in range(my_output.shape[2]):\n",
    "                    my_output[batch, i, j, channel] = np.max(my_input[batch, i:i+my_filter.shape[0]])\n",
    "\n",
    "    \n",
    "    return my_output"
   ]
  },
  {
   "cell_type": "code",
   "execution_count": 71,
   "metadata": {},
   "outputs": [],
   "source": [
    "def tf_pooling(tf_input, tf_window_shape, tf_pooling_type, tf_padding, tf_strides):\n",
    "    \n",
    "    sess = tf.Session()\n",
    "    tf_function = tf.nn.pool(input=tf_input, window_shape=tf_window_shape, pooling_type=tf_pooling_type, padding=tf_padding, strides=tf_strides)\n",
    "    tf_output = sess.run(tf_function)\n",
    "    sess.close()\n",
    "    \n",
    "    return tf_output"
   ]
  },
  {
   "cell_type": "code",
   "execution_count": 72,
   "metadata": {},
   "outputs": [
    {
     "name": "stdout",
     "output_type": "stream",
     "text": [
      "input:\n",
      "[[[[0.73587811]\n",
      "   [0.37249798]\n",
      "   [0.4192761 ]\n",
      "   [0.07413942]]\n",
      "\n",
      "  [[0.54569549]\n",
      "   [0.67773706]\n",
      "   [0.35411059]\n",
      "   [0.73330704]]\n",
      "\n",
      "  [[0.738413  ]\n",
      "   [0.52364092]\n",
      "   [0.59529103]\n",
      "   [0.47028568]]\n",
      "\n",
      "  [[0.7114184 ]\n",
      "   [0.52587802]\n",
      "   [0.62240085]\n",
      "   [0.92401336]]]]\n",
      "output:\n",
      "[[[[0.73587811]\n",
      "   [0.73330704]]\n",
      "\n",
      "  [[0.738413  ]\n",
      "   [0.92401336]]]]\n",
      "my output:\n",
      "[[[[0.]\n",
      "   [0.]]\n",
      "\n",
      "  [[0.]\n",
      "   [0.]]]]\n"
     ]
    }
   ],
   "source": [
    "sample_input = np.random.random([1,4,4,1])\n",
    "sample_window_shape = [2,2]\n",
    "sample_pooling_type = \"MAX\"\n",
    "sample_padding = \"VALID\"\n",
    "sample_strides = [2,2]\n",
    "\n",
    "tf_output = tf_pooling(sample_input,sample_window_shape,sample_pooling_type,sample_padding,sample_strides)\n",
    "my_output = my_pooling(sample_input, sample_window_shape, sample_pooling_type, sample_padding, sample_strides)\n",
    "\n",
    "print(\"input:\")\n",
    "print(sample_input)\n",
    "print(\"output:\")\n",
    "print(tf_output)\n",
    "print(\"my output:\")\n",
    "print(my_output)"
   ]
  },
  {
   "cell_type": "code",
   "execution_count": null,
   "metadata": {},
   "outputs": [],
   "source": []
  }
 ],
 "metadata": {
  "kernelspec": {
   "display_name": "Python 3",
   "language": "python",
   "name": "python3"
  },
  "language_info": {
   "codemirror_mode": {
    "name": "ipython",
    "version": 3
   },
   "file_extension": ".py",
   "mimetype": "text/x-python",
   "name": "python",
   "nbconvert_exporter": "python",
   "pygments_lexer": "ipython3",
   "version": "3.6.8"
  }
 },
 "nbformat": 4,
 "nbformat_minor": 2
}
